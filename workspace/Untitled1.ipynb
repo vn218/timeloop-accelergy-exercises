{
 "cells": [
  {
   "cell_type": "code",
   "execution_count": 8,
   "id": "02165a81-cafc-4868-b5e9-6c062e849792",
   "metadata": {},
   "outputs": [
    {
     "name": "stdout",
     "output_type": "stream",
     "text": [
      "\n",
      "\n",
      "Running mapper for target kalabhya_softmax2 in /home/workspace/example_designs/example_designs/kalabhya_softmax2/outputs/6_log_softmax_subtraction...\n",
      "input file: /home/workspace/example_designs/example_designs/kalabhya_softmax2/outputs/6_log_softmax_subtraction/parsed-processed-input.yaml\n",
      "  _______                __                \n",
      " /_  __(_)___ ___  ___  / /___  ____  ____ \n",
      "  / / / / __ `__ \\/ _ \\/ / __ \\/ __ \\/ __ \\\n",
      " / / / / / / / / /  __/ / /_/ / /_/ / /_/ /\n",
      "/_/ /_/_/ /_/ /_/\\___/_/\\____/\\____/ .___/ \n",
      "                                  /_/      \n",
      "\n",
      "Problem configuration complete.\n",
      "execute:/usr/local/bin/accelergy /home/workspace/example_designs/example_designs/kalabhya_softmax2/outputs/6_log_softmax_subtraction/parsed-processed-input.yaml --oprefix timeloop-mapper. -o ./ > timeloop-mapper.accelergy.log 2>&1\n",
      "Generate Accelergy ERT (energy reference table) to replace internal energy model.\n",
      "Generate Accelergy ART (area reference table) to replace internal area model.\n",
      "Architecture configuration complete.\n",
      "Sparse optimization configuration complete.\n",
      "Using threads = 4\n",
      "Mapper configuration complete.\n",
      "Initializing Index Factorization subspace.\n",
      "  Factorization options along problem dimension B = 21\n",
      "  Factorization options along problem dimension N = 56\n",
      "Mapspace Dimension [IndexFactorization] Size: 1176\n",
      "Mapspace Dimension [LoopPermutation] Size: 32\n",
      "Mapspace Dimension [Spatial] Size: 1\n",
      "Mapspace Dimension [DatatypeBypass] Size: 1\n",
      "Mapspace split! Per-split Mapping Dimension [IndexFactorization] Size: 294 Residue: 0\n",
      "Mapspace construction complete.\n",
      "Search configuration complete.\n",
      "Start Parsering Layout\n",
      "No Layout specified, so using bandwidth based modeling\n",
      "[  1] Utilization = 1.00 | pJ/Compute =  388.641 | L6[ISO] B2 N2 - L5[] N4 - L4[] N1 N32Y B32X - L3[] B2 - L2[I] N1 - L1[O] N1 - L0[S] N1  | Cycles = 32\n",
      "[  3] Utilization = 1.00 | pJ/Compute =  388.641 | L6[ISO] N2 - L5[] B2 N2 - L4[] N1 N32Y B32X - L3[] B2 N2 - L2[I] N1 - L1[O] N1 - L0[S] N1  | Cycles = 32\n",
      "[  0] Utilization = 1.00 | pJ/Compute =  388.641 | L6[ISO] N2 - L5[] B4 N4 - L4[] N1 N32Y B32X - L3[] N1 - L2[I] N1 - L1[O] N1 - L0[S] N1  | Cycles = 32\n",
      "[  2] Utilization = 1.00 | pJ/Compute =  388.641 | L6[ISO] B2 N2 - L5[] B2 N4 - L4[] N1 N32Y B32X - L3[] N1 - L2[I] N1 - L1[O] N1 - L0[S] N1  | Cycles = 32\n",
      "[  0] STATEMENT: 100 suboptimal mappings found since the last upgrade, terminating search.\n",
      "[  1] STATEMENT: 100 suboptimal mappings found since the last upgrade, terminating search.\n",
      "[  3] STATEMENT: 100 suboptimal mappings found since the last upgrade, terminating search.\n",
      "[  2] STATEMENT: 100 suboptimal mappings found since the last upgrade, terminating search.\n",
      "\n",
      "\n",
      "Summary stats for best mapping found by mapper:\n",
      "  Utilization = 1.00 | pJ/Compute =  388.641 | Cycles = 32\n"
     ]
    }
   ],
   "source": [
    "!python3 example_designs/run_example_designs.py --architecture kalabhya_softmax2 --problem kalabhya_attention2/6_log_softmax_subtraction.yaml"
   ]
  },
  {
   "cell_type": "code",
   "execution_count": 7,
   "id": "5ddd26e8-929d-4c77-b420-ceeeca33e33f",
   "metadata": {},
   "outputs": [
    {
     "name": "stdout",
     "output_type": "stream",
     "text": [
      "Running apps: mapper\n",
      "Found parsed-processed-input.yaml in input files. Running Timeloop without parsing or processing steps. If this is not the intended behavior, please name the input files differently.\n",
      "input file: /home/workspace/example_designs/example_designs/kalabhya_softmax/outputs/6_division/parsed-processed-input.yaml\n",
      "  _______                __                \n",
      " /_  __(_)___ ___  ___  / /___  ____  ____ \n",
      "  / / / / __ `__ \\/ _ \\/ / __ \\/ __ \\/ __ \\\n",
      " / / / / / / / / /  __/ / /_/ / /_/ / /_/ /\n",
      "/_/ /_/_/ /_/ /_/\\___/_/\\____/\\____/ .___/ \n",
      "                                  /_/      \n",
      "\n",
      "Problem configuration complete.\n",
      "execute:/usr/local/bin/accelergy /home/workspace/example_designs/example_designs/kalabhya_softmax/outputs/6_division/parsed-processed-input.yaml --oprefix timeloop-mapper. -o ./ > timeloop-mapper.accelergy.log 2>&1\n",
      "Generate Accelergy ERT (energy reference table) to replace internal energy model.\n",
      "Generate Accelergy ART (area reference table) to replace internal area model.\n",
      "Architecture configuration complete.\n",
      "Sparse optimization configuration complete.\n",
      "Using threads = 4\n",
      "Mapper configuration complete.\n",
      "terminate called after throwing an instance of 'std::out_of_range'\n",
      "  what():  vector::_M_range_check: __n (which is 860227952) >= this->size() (which is 7)\n",
      "Aborted (core dumped)\n"
     ]
    }
   ],
   "source": [
    "!tl mapper /home/workspace/example_designs/example_designs/kalabhya_softmax/outputs/6_division/parsed-processed-input.yaml"
   ]
  },
  {
   "cell_type": "code",
   "execution_count": null,
   "id": "9f0629d5-6af1-4008-a193-7bb197e478e9",
   "metadata": {},
   "outputs": [],
   "source": []
  }
 ],
 "metadata": {
  "kernelspec": {
   "display_name": "Python 3 (ipykernel)",
   "language": "python",
   "name": "python3"
  },
  "language_info": {
   "codemirror_mode": {
    "name": "ipython",
    "version": 3
   },
   "file_extension": ".py",
   "mimetype": "text/x-python",
   "name": "python",
   "nbconvert_exporter": "python",
   "pygments_lexer": "ipython3",
   "version": "3.10.12"
  }
 },
 "nbformat": 4,
 "nbformat_minor": 5
}
